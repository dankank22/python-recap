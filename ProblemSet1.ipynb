from IPython.display import Image
import math

# Exercise 1

<img src="lab1_exercise1.png" width="1000">

x1 = 3
y1 = 4

x2 = 5
y2 = 9

#creation of variable dist to store the distance between coordinates using the formula (root((x2-x1)^2+(y2-y1)^2))

dist = math.sqrt(((x2-x1)**2)+((y2-y1)**2))

#printing the distance

print(dist)

# Exercise 2

<img src="lab1_exercise2.png" width="1000">

#creation of sine_list and cosine_list(initially made as a copy of sine_list)

sine_list = [180, 90, 45, 30]
cosine_list = sine_list.copy()

#iterating through the lists and replacing each initial angle value (in radians) with its sine and cosine values
#the angle in radians is computed by multiplying the angle value in degrees by pi/180

for x in range(len(sine_list)):
    sine_list[x] = math.sin(sine_list[x]*(math.pi/180))
for x in range(len(cosine_list)):
    cosine_list[x] = math.cos(cosine_list[x]*(math.pi/180))

#printing sine_list

print(sine_list)

#printing cosine_list

print(cosine_list)

# NOTE: 
# It's normal for list elements to be not completely identical to correct sine/cosine values due to rounding errors
# If you want to round them use round() function - e.g. round(0.4999999991, 5) = 0.5 

# Exercise 3

<img src="lab1_exercise3.png" width="1000">

#creation of variable sinh_manual to store the hyperbolic sin of x=2 using the formula (e^x - e^-x)/2

sinh_manual = (math.exp(2)-math.exp(-2))/2

#creation of variable value_match to compare sinh_manual and math.sinh(2)

value_match = round(sinh_manual,5)==round(math.sinh(2),5)

#printing the boolean value of value_match

print(value_match) # See if the value is True 

# NOTE: sinh_manual and math.sinh(2) might be different by tiny amount due to rounding errors,
# In such a case, use round(sinh_manual, 5) and round(value_match, 5) to round the values to 5 decimal places 

# Exercise 4

<img src="lab1_exercise4.png" width="1000">

p1, q1 = False, False
p2, q2 = True, False
p3, q3 = False, True
p4, q4 = True, True

# HINT: XOR = (OR) AND (NAND) where NAND = NOT(AND) 
# NOTE: You must use the same logical expression for cells below with only p and q values changing for each cell

# printing XOR expression for p1, q1 as per the hint provided

print((p1 or q1) and not(p1 and q1))

# printing XOR expression for p2, q2 as per the hint provided

print((p2 or q2) and not(p2 and q2))

# printing XOR expression for p3, q3 as per the hint provided

print((p3 or q3) and not(p3 and q3))

# printing XOR expression for p4, q4 as per the hint provided

print((p4 or q4) and not(p4 and q4))

# Exercise 5

<img src="lab1_exercise5.png" width="1000">

sample_list = list(range(101))

# printing the last 25 values of the list

print(sample_list[-25:])  

# printing the values that fall into 1/4 to 3/4 of the list's length

x = round(len(sample_list)/4)
y = round(len(sample_list)*3/4)

print(sample_list[x:y])

# printing the values that correspond to every even index
# Hint: see 2.6 indexing list section in Lab1_Lecture_Examples.ipynb

print(sample_list[0::2])


# printing the values that correspond to every odd index
# Hint: see 2.6 indexing list section in Lab1_Lecture_Examples.ipynb

print(sample_list[1::2])

